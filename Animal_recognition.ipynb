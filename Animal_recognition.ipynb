{
 "cells": [
  {
   "cell_type": "code",
   "execution_count": 1,
   "metadata": {},
   "outputs": [
    {
     "name": "stderr",
     "output_type": "stream",
     "text": [
      "Using TensorFlow backend.\n"
     ]
    }
   ],
   "source": [
    "#using Convolutional Neural Network\n",
    "\n",
    "from keras.models import Sequential \n",
    "from keras.layers import Convolution2D  \n",
    "from keras.layers import MaxPooling2D \n",
    "from keras.layers import Flatten\n",
    "from keras.layers import Dense"
   ]
  },
  {
   "cell_type": "code",
   "execution_count": 2,
   "metadata": {
    "collapsed": true
   },
   "outputs": [],
   "source": [
    "# Initialising the CNN\n",
    "classifier = Sequential()"
   ]
  },
  {
   "cell_type": "code",
   "execution_count": 3,
   "metadata": {},
   "outputs": [
    {
     "name": "stderr",
     "output_type": "stream",
     "text": [
      "C:\\Users\\HP\\Anaconda3_5\\envs\\py35\\lib\\site-packages\\ipykernel_launcher.py:2: UserWarning: Update your `Conv2D` call to the Keras 2 API: `Conv2D(32, (3, 3), input_shape=(64, 64, 3..., activation=\"relu\")`\n",
      "  \n"
     ]
    }
   ],
   "source": [
    "# Step 1 - Convolution\n",
    "classifier.add(Convolution2D(32, 3, 3, input_shape = (64, 64, 3), activation = 'relu'))"
   ]
  },
  {
   "cell_type": "code",
   "execution_count": 4,
   "metadata": {
    "collapsed": true
   },
   "outputs": [],
   "source": [
    "# Step 2 - Pooling\n",
    "classifier.add(MaxPooling2D(pool_size = (2, 2)))"
   ]
  },
  {
   "cell_type": "code",
   "execution_count": 5,
   "metadata": {},
   "outputs": [
    {
     "name": "stderr",
     "output_type": "stream",
     "text": [
      "C:\\Users\\HP\\Anaconda3_5\\envs\\py35\\lib\\site-packages\\ipykernel_launcher.py:2: UserWarning: Update your `Conv2D` call to the Keras 2 API: `Conv2D(32, (3, 3), activation=\"relu\")`\n",
      "  \n"
     ]
    }
   ],
   "source": [
    "# Adding a second convolutional layer\n",
    "classifier.add(Convolution2D(32, 3, 3, activation = 'relu'))\n",
    "classifier.add(MaxPooling2D(pool_size = (2, 2)))"
   ]
  },
  {
   "cell_type": "code",
   "execution_count": 6,
   "metadata": {
    "collapsed": true
   },
   "outputs": [],
   "source": [
    "# Step 3 - Flattening\n",
    "classifier.add(Flatten())"
   ]
  },
  {
   "cell_type": "code",
   "execution_count": 7,
   "metadata": {},
   "outputs": [
    {
     "name": "stderr",
     "output_type": "stream",
     "text": [
      "C:\\Users\\HP\\Anaconda3_5\\envs\\py35\\lib\\site-packages\\ipykernel_launcher.py:2: UserWarning: Update your `Dense` call to the Keras 2 API: `Dense(units=128, activation=\"relu\")`\n",
      "  \n",
      "C:\\Users\\HP\\Anaconda3_5\\envs\\py35\\lib\\site-packages\\ipykernel_launcher.py:3: UserWarning: Update your `Dense` call to the Keras 2 API: `Dense(units=1, activation=\"sigmoid\")`\n",
      "  This is separate from the ipykernel package so we can avoid doing imports until\n"
     ]
    }
   ],
   "source": [
    "# Step 4 - Full connection\n",
    "classifier.add(Dense(output_dim = 128, activation = 'relu'))\n",
    "classifier.add(Dense(output_dim = 1, activation = 'sigmoid'))"
   ]
  },
  {
   "cell_type": "code",
   "execution_count": 8,
   "metadata": {
    "collapsed": true
   },
   "outputs": [],
   "source": [
    "# Compiling the CNN\n",
    "classifier.compile(optimizer = 'adam', loss = 'binary_crossentropy', metrics = ['accuracy'])"
   ]
  },
  {
   "cell_type": "code",
   "execution_count": 9,
   "metadata": {},
   "outputs": [
    {
     "name": "stdout",
     "output_type": "stream",
     "text": [
      "Found 8000 images belonging to 2 classes.\n",
      "Found 2000 images belonging to 2 classes.\n"
     ]
    }
   ],
   "source": [
    "# Part 2 - Fitting the CNN to the images\n",
    "from keras.preprocessing.image import ImageDataGenerator\n",
    "\n",
    "train_datagen = ImageDataGenerator(rescale = 1./255,\n",
    "                                   shear_range = 0.2,\n",
    "                                   zoom_range = 0.2,\n",
    "                                   horizontal_flip = True)\n",
    "\n",
    "test_datagen = ImageDataGenerator(rescale = 1./255)\n",
    "\n",
    "training_set = train_datagen.flow_from_directory('dataset/training_set',\n",
    "                                                 target_size = (64, 64),\n",
    "                                                 batch_size = 32,\n",
    "                                                 class_mode = 'binary')\n",
    "\n",
    "test_set = test_datagen.flow_from_directory('dataset/test_set',\n",
    "                                            target_size = (64, 64),\n",
    "                                            batch_size = 32,\n",
    "                                            class_mode = 'binary')"
   ]
  },
  {
   "cell_type": "code",
   "execution_count": 10,
   "metadata": {},
   "outputs": [
    {
     "name": "stderr",
     "output_type": "stream",
     "text": [
      "C:\\Users\\HP\\Anaconda3_5\\envs\\py35\\lib\\site-packages\\ipykernel_launcher.py:6: UserWarning: The semantics of the Keras 2 argument `steps_per_epoch` is not the same as the Keras 1 argument `samples_per_epoch`. `steps_per_epoch` is the number of batches to draw from the generator at each epoch. Basically steps_per_epoch = samples_per_epoch/batch_size. Similarly `nb_val_samples`->`validation_steps` and `val_samples`->`steps` arguments have changed. Update your method calls accordingly.\n",
      "  \n",
      "C:\\Users\\HP\\Anaconda3_5\\envs\\py35\\lib\\site-packages\\ipykernel_launcher.py:6: UserWarning: Update your `fit_generator` call to the Keras 2 API: `fit_generator(<keras.pre..., steps_per_epoch=250, validation_steps=2000, epochs=20, validation_data=<keras.pre...)`\n",
      "  \n"
     ]
    },
    {
     "name": "stdout",
     "output_type": "stream",
     "text": [
      "Epoch 1/20\n",
      "250/250 [==============================] - 875s 4s/step - loss: 0.6460 - acc: 0.6195 - val_loss: 0.5956 - val_acc: 0.6910\n",
      "Epoch 2/20\n",
      "250/250 [==============================] - 1178s 5s/step - loss: 0.5853 - acc: 0.6897 - val_loss: 0.6209 - val_acc: 0.6795\n",
      "Epoch 3/20\n",
      "250/250 [==============================] - 1191s 5s/step - loss: 0.5590 - acc: 0.7075 - val_loss: 0.5534 - val_acc: 0.7112\n",
      "Epoch 4/20\n",
      "250/250 [==============================] - 972s 4s/step - loss: 0.5293 - acc: 0.7321 - val_loss: 0.5008 - val_acc: 0.7571\n",
      "Epoch 5/20\n",
      "250/250 [==============================] - 1340s 5s/step - loss: 0.5054 - acc: 0.7516 - val_loss: 0.4971 - val_acc: 0.7566\n",
      "Epoch 6/20\n",
      "250/250 [==============================] - 849s 3s/step - loss: 0.4947 - acc: 0.7540 - val_loss: 0.4793 - val_acc: 0.7672\n",
      "Epoch 7/20\n",
      "250/250 [==============================] - 541s 2s/step - loss: 0.4747 - acc: 0.7707 - val_loss: 0.5130 - val_acc: 0.7442\n",
      "Epoch 8/20\n",
      "250/250 [==============================] - 532s 2s/step - loss: 0.4693 - acc: 0.7716 - val_loss: 0.4791 - val_acc: 0.7674\n",
      "Epoch 9/20\n",
      "250/250 [==============================] - 537s 2s/step - loss: 0.4522 - acc: 0.7830 - val_loss: 0.5119 - val_acc: 0.7578\n",
      "Epoch 10/20\n",
      "250/250 [==============================] - 538s 2s/step - loss: 0.4341 - acc: 0.7961 - val_loss: 0.4643 - val_acc: 0.7865\n",
      "Epoch 11/20\n",
      "250/250 [==============================] - 535s 2s/step - loss: 0.4264 - acc: 0.8000 - val_loss: 0.4511 - val_acc: 0.8018\n",
      "Epoch 12/20\n",
      "250/250 [==============================] - 535s 2s/step - loss: 0.4133 - acc: 0.8115 - val_loss: 0.4512 - val_acc: 0.7906\n",
      "Epoch 13/20\n",
      "250/250 [==============================] - 545s 2s/step - loss: 0.4065 - acc: 0.8124 - val_loss: 0.4595 - val_acc: 0.7879\n",
      "Epoch 14/20\n",
      "250/250 [==============================] - 539s 2s/step - loss: 0.3907 - acc: 0.8211 - val_loss: 0.4588 - val_acc: 0.7885\n",
      "Epoch 15/20\n",
      "250/250 [==============================] - 539s 2s/step - loss: 0.3804 - acc: 0.8236 - val_loss: 0.4474 - val_acc: 0.8041\n",
      "Epoch 16/20\n",
      "250/250 [==============================] - 536s 2s/step - loss: 0.3650 - acc: 0.8390 - val_loss: 0.4576 - val_acc: 0.8083\n",
      "Epoch 17/20\n",
      "250/250 [==============================] - 533s 2s/step - loss: 0.3605 - acc: 0.8380 - val_loss: 0.4528 - val_acc: 0.8108\n",
      "Epoch 18/20\n",
      "250/250 [==============================] - 535s 2s/step - loss: 0.3437 - acc: 0.8495 - val_loss: 0.4479 - val_acc: 0.8055\n",
      "Epoch 19/20\n",
      "250/250 [==============================] - 543s 2s/step - loss: 0.3387 - acc: 0.8504 - val_loss: 0.4415 - val_acc: 0.8093\n",
      "Epoch 20/20\n",
      "250/250 [==============================] - 534s 2s/step - loss: 0.3273 - acc: 0.8572 - val_loss: 0.4548 - val_acc: 0.8055\n"
     ]
    },
    {
     "data": {
      "text/plain": [
       "<keras.callbacks.History at 0x4a5a2fad68>"
      ]
     },
     "execution_count": 10,
     "metadata": {},
     "output_type": "execute_result"
    }
   ],
   "source": [
    "# here we'll train and validate our results.\n",
    "classifier.fit_generator(training_set,\n",
    "                         samples_per_epoch = 8000,\n",
    "                         nb_epoch = 20,\n",
    "                         validation_data = test_set,\n",
    "                         nb_val_samples = 2000)"
   ]
  },
  {
   "cell_type": "code",
   "execution_count": null,
   "metadata": {
    "collapsed": true
   },
   "outputs": [],
   "source": []
  }
 ],
 "metadata": {
  "kernelspec": {
   "display_name": "Python 3",
   "language": "python",
   "name": "python3"
  },
  "language_info": {
   "codemirror_mode": {
    "name": "ipython",
    "version": 3
   },
   "file_extension": ".py",
   "mimetype": "text/x-python",
   "name": "python",
   "nbconvert_exporter": "python",
   "pygments_lexer": "ipython3",
   "version": "3.5.4"
  }
 },
 "nbformat": 4,
 "nbformat_minor": 2
}
